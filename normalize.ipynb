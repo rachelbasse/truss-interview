{
 "cells": [
  {
   "cell_type": "code",
   "execution_count": 114,
   "metadata": {},
   "outputs": [],
   "source": [
    "# Imports\n",
    "import arrow\n",
    "import csv\n",
    "import re\n",
    "from sys import stdin, stdout\n",
    "import unittest"
   ]
  },
  {
   "cell_type": "code",
   "execution_count": 4,
   "metadata": {},
   "outputs": [],
   "source": [
    "def to_seconds(time):\n",
    "    units = [float(v) for v in time.split(':')]\n",
    "    return sum((coeff * unit for coeff, unit in zip([3600, 60, 1], units)))"
   ]
  },
  {
   "cell_type": "code",
   "execution_count": 80,
   "metadata": {},
   "outputs": [],
   "source": [
    "def to_iso8601(datetime, timezone):\n",
    "    match = re.match(r'(\\d\\d?)/(\\d\\d?)/(\\d\\d?) (\\d\\d?)(.*)', datetime)\n",
    "    time = arrow.get('20{2:0>2}-{0:0>2}-{1:0>2}T{3:0>2}{4} {5}'.format(*match.groups(), 'US/Pacific'), 'YYYY-MM-DDTHH:ss:mm A ZZZ')\n",
    "    return time.to(timezone).format('YYYY-MM-DDTHH:mm:ssZZ')"
   ]
  },
  {
   "cell_type": "code",
   "execution_count": 106,
   "metadata": {},
   "outputs": [],
   "source": [
    "to_zip = lambda x: '{0:0>5.5}'.format(x)"
   ]
  },
  {
   "cell_type": "code",
   "execution_count": 107,
   "metadata": {},
   "outputs": [],
   "source": [
    "def normalize(in_filepath, out_filepath):\n",
    "    csv.register_dialect('truss', delimiter=',', escapechar=None, quoting=csv.QUOTE_MINIMAL)\n",
    "    with open(in_filepath, mode='rt', encoding='utf-8', errors='replace') as raw, \\\n",
    "         open(out_filepath, mode='w+', encoding='utf-8', errors='ignore') as out:\n",
    "        reader = csv.DictReader(raw)\n",
    "        fieldnames = reader.fieldnames\n",
    "        writer = csv.DictWriter(out, fieldnames=fieldnames)\n",
    "        writer.writeheader()\n",
    "        for row in reader:\n",
    "            # Timestamp : to ISO-8601 format in US/Eastern timezone\n",
    "            try:\n",
    "                row['Timestamp'] = to_iso8601(row['Timestamp'], 'US/Eastern')\n",
    "            except AttributeError as error:\n",
    "                print('WARNING: row {0}\\ndropped while normalizing timestamp due to error:\\n{1}'.format(list(row.values()), error))\n",
    "                continue\n",
    "            # Address : no changes\n",
    "            # ZIP : limit to 5 digits, prefix with 0\n",
    "            row['ZIP'] = to_zip(row['ZIP'])\n",
    "            # FullName : to uppercase\n",
    "            row['FullName'] = row['FullName'].upper()\n",
    "            # FooDuration, BarDuration : HH:MM:SS.MS format to seconds (float)\n",
    "            row['FooDuration'] = to_seconds(row['FooDuration'])\n",
    "            row['BarDuration'] = to_seconds(row['BarDuration'])\n",
    "            # TotalDuration : replace with sum of FooDuration and BarDuration\n",
    "            row['TotalDuration'] = row['FooDuration'] + row['BarDuration']\n",
    "            # Notes : no changes\n",
    "            writer.writerow(row)"
   ]
  },
  {
   "cell_type": "code",
   "execution_count": 112,
   "metadata": {},
   "outputs": [],
   "source": [
    "class TestNormalizer(unittest.TestCase):\n",
    "\n",
    "    def to_iso8601(self):\n",
    "        self.assertEqual(to_iso8601('1/1/00 1:01:01 AM'), '2000-01-01T04:01:01-4:00')\n",
    "        self.assertEqual(to_iso8601('10/11/12 01:23:45 PM'), '2012-10-11T16:23:45-4:00')\n",
    "        self.assertEqual(to_iso8601('10/11/12 11:23:45 PM'), '2012-10-12T02:23:45-4:00')\n",
    "\n",
    "    def to_seconds(self):\n",
    "        self.assertEqual(to_seconds('0:0:0'), 0)\n",
    "        self.assertEqual(to_seconds('0:0:1.0'), 1)\n",
    "        self.assertEqual(to_seconds('0:1:0'), 60)\n",
    "        self.assertEqual(to_seconds('1:0:0'), 3600)\n",
    "        self.assertEqual(to_seconds('0:0:32.123'), 32.123)\n",
    "        self.assertEqual(to_seconds('0:1:32.123'), 92.123)\n",
    "        self.assertEqual(to_seconds('1:0:32.123'), 3632.123)\n",
    "        \n",
    "    def to_zip(self):\n",
    "        self.assertEqual(to_zip(''), '00000')\n",
    "        self.assertEqual(to_zip('123'), '00123')\n",
    "        self.assertEqual(to_zip('12345'), '12345')\n",
    "        self.assertEqual(to_zip('1234567'), '12345')\n",
    "\n",
    "#if __name__ == '__main__':\n",
    "#    unittest.main()"
   ]
  },
  {
   "cell_type": "code",
   "execution_count": 113,
   "metadata": {},
   "outputs": [
    {
     "name": "stderr",
     "output_type": "stream",
     "text": [
      "\n",
      "----------------------------------------------------------------------\n",
      "Ran 0 tests in 0.000s\n",
      "\n",
      "OK\n"
     ]
    }
   ],
   "source": [
    "if __name__ == '__main__':\n",
    "    unittest.main(argv=['first-arg-is-ignored'], exit=False)"
   ]
  },
  {
   "cell_type": "code",
   "execution_count": 115,
   "metadata": {
    "scrolled": true
   },
   "outputs": [
    {
     "name": "stdout",
     "output_type": "stream",
     "text": [
      "WARNING: row ['10/2/h� 8:44:11 AM', 'The Moon', '11', 'HERE WE GO', '1:23:32.123', '1:32:33.123', 'zzsasdfa', '']\n",
      "dropped while normalizing timestamp due to error:\n",
      "'NoneType' object has no attribute 'groups'\n"
     ]
    }
   ],
   "source": [
    "normalize('sample-with-broken-utf8.csv', 'output.csv')"
   ]
  },
  {
   "cell_type": "code",
   "execution_count": null,
   "metadata": {},
   "outputs": [],
   "source": []
  }
 ],
 "metadata": {
  "kernelspec": {
   "display_name": "Python 3",
   "language": "python",
   "name": "python3"
  },
  "language_info": {
   "codemirror_mode": {
    "name": "ipython",
    "version": 3
   },
   "file_extension": ".py",
   "mimetype": "text/x-python",
   "name": "python",
   "nbconvert_exporter": "python",
   "pygments_lexer": "ipython3",
   "version": "3.7.0"
  }
 },
 "nbformat": 4,
 "nbformat_minor": 2
}
