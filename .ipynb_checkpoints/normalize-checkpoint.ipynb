{
 "cells": [
  {
   "cell_type": "code",
   "execution_count": 73,
   "metadata": {},
   "outputs": [],
   "source": [
    "# Imports\n",
    "import arrow\n",
    "import csv\n",
    "from pprint import pprint\n",
    "import re"
   ]
  },
  {
   "cell_type": "markdown",
   "metadata": {},
   "source": [
    "[x] The entire CSV is in the UTF-8 character set.\n",
    "[x] The Timestamp column should be formatted in ISO-8601 format.\n",
    "[x] The Timestamp column should be assumed to be in US/Pacific time; please convert it to US/Eastern.\n",
    "[x] All ZIP codes should be formatted as 5 digits. If there are less than 5 digits, assume 0 as the prefix.\n",
    "[x] The FullName column should be converted to uppercase. There will be non-English names.\n",
    "[x] The Address column should be passed through as is, except for Unicode validation. Please note there are commas in the Address field; your CSV parsing will need to take that into account. Commas will only be present inside a quoted string.\n",
    "[x] The FooDuration and BarDuration columns are in HH:MM:SS.MS format (where MS is milliseconds); please convert them to the total number of seconds expressed in floating point format. You should not round the result.\n",
    "[x] The TotalDuration column is filled with garbage data. For each row, please replace the value of TotalDuration with the sum of FooDuration and BarDuration.\n",
    "[x] The Notes column is free form text input by end-users; please do not perform any transformations on this column. If there are invalid UTF-8 characters, please replace them with the Unicode Replacement Character.\n",
    "[] You can assume that the input document is in UTF-8 and that any times that are missing timezone information are in US/Pacific. If a character is invalid, please replace it with the Unicode Replacement Character. If that replacement makes data invalid (for example, because it turns a date field into something unparseable), print a warning to stderr and drop the row from your output."
   ]
  },
  {
   "cell_type": "code",
   "execution_count": 29,
   "metadata": {},
   "outputs": [],
   "source": [
    "def to_seconds(time):\n",
    "    units = [float(v) for v in time.split(':')]\n",
    "    return sum((coeff * unit for coeff, unit in zip([3600, 60, 1], units)))"
   ]
  },
  {
   "cell_type": "code",
   "execution_count": 99,
   "metadata": {},
   "outputs": [],
   "source": [
    "def to_iso8601(datetime, timezone):\n",
    "    match = re.match(r'(\\d\\d?)/(\\d\\d?)/(\\d\\d) (\\d\\d?):(\\d\\d):(\\d\\d) (AM|PM)', datetime)\n",
    "    time = arrow.get(*match.groups())\n",
    "    return time.to(timezone).format('YYYY-MM-DDTHH:mm:ssZZ')"
   ]
  },
  {
   "cell_type": "code",
   "execution_count": 100,
   "metadata": {},
   "outputs": [
    {
     "ename": "TypeError",
     "evalue": "an integer is required (got type str)",
     "output_type": "error",
     "traceback": [
      "\u001b[1;31m---------------------------------------------------------------------------\u001b[0m",
      "\u001b[1;31mTypeError\u001b[0m                                 Traceback (most recent call last)",
      "\u001b[1;32m<ipython-input-100-7cbd0815485c>\u001b[0m in \u001b[0;36m<module>\u001b[1;34m()\u001b[0m\n\u001b[1;32m----> 1\u001b[1;33m \u001b[0mprint\u001b[0m\u001b[1;33m(\u001b[0m\u001b[0mto_iso8601\u001b[0m\u001b[1;33m(\u001b[0m\u001b[1;34m'04/11/11 4:00:00 AM'\u001b[0m\u001b[1;33m,\u001b[0m \u001b[1;34m'US/Eastern'\u001b[0m\u001b[1;33m)\u001b[0m\u001b[1;33m)\u001b[0m\u001b[1;33m\u001b[0m\u001b[0m\n\u001b[0m",
      "\u001b[1;32m<ipython-input-99-887e1adae802>\u001b[0m in \u001b[0;36mto_iso8601\u001b[1;34m(datetime, timezone)\u001b[0m\n\u001b[0;32m      1\u001b[0m \u001b[1;32mdef\u001b[0m \u001b[0mto_iso8601\u001b[0m\u001b[1;33m(\u001b[0m\u001b[0mdatetime\u001b[0m\u001b[1;33m,\u001b[0m \u001b[0mtimezone\u001b[0m\u001b[1;33m)\u001b[0m\u001b[1;33m:\u001b[0m\u001b[1;33m\u001b[0m\u001b[0m\n\u001b[0;32m      2\u001b[0m     \u001b[0mmatch\u001b[0m \u001b[1;33m=\u001b[0m \u001b[0mre\u001b[0m\u001b[1;33m.\u001b[0m\u001b[0mmatch\u001b[0m\u001b[1;33m(\u001b[0m\u001b[1;34mr'(\\d\\d?)/(\\d\\d?)/(\\d\\d) (\\d\\d?):(\\d\\d):(\\d\\d) (AM|PM)'\u001b[0m\u001b[1;33m,\u001b[0m \u001b[0mdatetime\u001b[0m\u001b[1;33m)\u001b[0m\u001b[1;33m\u001b[0m\u001b[0m\n\u001b[1;32m----> 3\u001b[1;33m     \u001b[0mtime\u001b[0m \u001b[1;33m=\u001b[0m \u001b[0marrow\u001b[0m\u001b[1;33m.\u001b[0m\u001b[0mget\u001b[0m\u001b[1;33m(\u001b[0m\u001b[1;33m*\u001b[0m\u001b[0mmatch\u001b[0m\u001b[1;33m.\u001b[0m\u001b[0mgroups\u001b[0m\u001b[1;33m(\u001b[0m\u001b[1;33m)\u001b[0m\u001b[1;33m)\u001b[0m\u001b[1;33m\u001b[0m\u001b[0m\n\u001b[0m\u001b[0;32m      4\u001b[0m     \u001b[1;32mreturn\u001b[0m \u001b[0mtime\u001b[0m\u001b[1;33m.\u001b[0m\u001b[0mto\u001b[0m\u001b[1;33m(\u001b[0m\u001b[0mtimezone\u001b[0m\u001b[1;33m)\u001b[0m\u001b[1;33m.\u001b[0m\u001b[0mformat\u001b[0m\u001b[1;33m(\u001b[0m\u001b[1;34m'YYYY-MM-DDTHH:mm:ssZZ'\u001b[0m\u001b[1;33m)\u001b[0m\u001b[1;33m\u001b[0m\u001b[0m\n",
      "\u001b[1;32m~\\Anaconda3\\lib\\site-packages\\arrow\\api.py\u001b[0m in \u001b[0;36mget\u001b[1;34m(*args, **kwargs)\u001b[0m\n\u001b[0;32m     20\u001b[0m     '''\n\u001b[0;32m     21\u001b[0m \u001b[1;33m\u001b[0m\u001b[0m\n\u001b[1;32m---> 22\u001b[1;33m     \u001b[1;32mreturn\u001b[0m \u001b[0m_factory\u001b[0m\u001b[1;33m.\u001b[0m\u001b[0mget\u001b[0m\u001b[1;33m(\u001b[0m\u001b[1;33m*\u001b[0m\u001b[0margs\u001b[0m\u001b[1;33m,\u001b[0m \u001b[1;33m**\u001b[0m\u001b[0mkwargs\u001b[0m\u001b[1;33m)\u001b[0m\u001b[1;33m\u001b[0m\u001b[0m\n\u001b[0m\u001b[0;32m     23\u001b[0m \u001b[1;33m\u001b[0m\u001b[0m\n\u001b[0;32m     24\u001b[0m \u001b[1;32mdef\u001b[0m \u001b[0mutcnow\u001b[0m\u001b[1;33m(\u001b[0m\u001b[1;33m)\u001b[0m\u001b[1;33m:\u001b[0m\u001b[1;33m\u001b[0m\u001b[0m\n",
      "\u001b[1;32m~\\Anaconda3\\lib\\site-packages\\arrow\\factory.py\u001b[0m in \u001b[0;36mget\u001b[1;34m(self, *args, **kwargs)\u001b[0m\n\u001b[0;32m    215\u001b[0m         \u001b[1;31m# 3+ args -> datetime-like via constructor.\u001b[0m\u001b[1;33m\u001b[0m\u001b[1;33m\u001b[0m\u001b[0m\n\u001b[0;32m    216\u001b[0m         \u001b[1;32melse\u001b[0m\u001b[1;33m:\u001b[0m\u001b[1;33m\u001b[0m\u001b[0m\n\u001b[1;32m--> 217\u001b[1;33m             \u001b[1;32mreturn\u001b[0m \u001b[0mself\u001b[0m\u001b[1;33m.\u001b[0m\u001b[0mtype\u001b[0m\u001b[1;33m(\u001b[0m\u001b[1;33m*\u001b[0m\u001b[0margs\u001b[0m\u001b[1;33m,\u001b[0m \u001b[1;33m**\u001b[0m\u001b[0mkwargs\u001b[0m\u001b[1;33m)\u001b[0m\u001b[1;33m\u001b[0m\u001b[0m\n\u001b[0m\u001b[0;32m    218\u001b[0m \u001b[1;33m\u001b[0m\u001b[0m\n\u001b[0;32m    219\u001b[0m     \u001b[1;32mdef\u001b[0m \u001b[0mutcnow\u001b[0m\u001b[1;33m(\u001b[0m\u001b[0mself\u001b[0m\u001b[1;33m)\u001b[0m\u001b[1;33m:\u001b[0m\u001b[1;33m\u001b[0m\u001b[0m\n",
      "\u001b[1;32m~\\Anaconda3\\lib\\site-packages\\arrow\\arrow.py\u001b[0m in \u001b[0;36m__init__\u001b[1;34m(self, year, month, day, hour, minute, second, microsecond, tzinfo)\u001b[0m\n\u001b[0;32m     66\u001b[0m \u001b[1;33m\u001b[0m\u001b[0m\n\u001b[0;32m     67\u001b[0m         self._datetime = datetime(year, month, day, hour, minute, second,\n\u001b[1;32m---> 68\u001b[1;33m             microsecond, tzinfo)\n\u001b[0m\u001b[0;32m     69\u001b[0m \u001b[1;33m\u001b[0m\u001b[0m\n\u001b[0;32m     70\u001b[0m \u001b[1;33m\u001b[0m\u001b[0m\n",
      "\u001b[1;31mTypeError\u001b[0m: an integer is required (got type str)"
     ]
    }
   ],
   "source": [
    "print(to_iso8601('04/11/11 4:00:00 AM', 'US/Eastern'))"
   ]
  },
  {
   "cell_type": "code",
   "execution_count": 71,
   "metadata": {},
   "outputs": [],
   "source": [
    "def normalize(in_filepath, out_filepath):\n",
    "    csv.register_dialect('truss', delimiter=',', escapechar=None, quoting=csv.QUOTE_MINIMAL)\n",
    "    with open(in_filepath, mode='rt', encoding='utf-8', errors='replace') as raw, \\\n",
    "         open(out_filepath, mode='w+', encoding='utf-8', errors='ignore') as out:\n",
    "        reader = csv.DictReader(raw)\n",
    "        fieldnames = reader.fieldnames\n",
    "        writer = csv.DictWriter(out, fieldnames=fieldnames)\n",
    "        writer.writeheader()\n",
    "        for row in reader:\n",
    "            # Timestamp : to ISO-8601 format in US/Eastern timezone\n",
    "            row['Timestamp'] = to_iso8601(row['Timestamp'], 'US/Eastern')\n",
    "            # Address : no changes\n",
    "            # ZIP : limit to 5 digits, prefix with 0\n",
    "            row['ZIP'] = '{0:0>5.5}'.format(row['ZIP'])\n",
    "            # FullName : to uppercase\n",
    "            row['FullName'] = row['FullName'].upper()\n",
    "            # FooDuration, BarDuration : HH:MM:SS.MS format to seconds (float)\n",
    "            row['FooDuration'] = to_seconds(row['FooDuration'])\n",
    "            row['BarDuration'] = to_seconds(row['BarDuration'])\n",
    "            # TotalDuration : replace with sum of FooDuration and BarDuration\n",
    "            row['TotalDuration'] = row['FooDuration'] + row['BarDuration']\n",
    "            # Notes : no changes\n",
    "            pprint(row)\n",
    "            #writer.writerow(row)"
   ]
  },
  {
   "cell_type": "code",
   "execution_count": 72,
   "metadata": {},
   "outputs": [
    {
     "name": "stdout",
     "output_type": "stream",
     "text": [
      "OrderedDict([('Timestamp', '2011-04-01T14:00:00-04:00'),\n",
      "             ('Address', '123 4th St, Anywhere, AA'),\n",
      "             ('ZIP', '94121'),\n",
      "             ('FullName', 'MONKEY ALBERTO'),\n",
      "             ('FooDuration', 5012.123),\n",
      "             ('BarDuration', 5553.123),\n",
      "             ('TotalDuration', 10565.246),\n",
      "             ('Notes', 'I am the very model of a modern major general')])\n",
      "OrderedDict([('Timestamp', '2014-03-12T03:00:00-04:00'),\n",
      "             ('Address', 'Somewhere Else, In Another Time, BB'),\n",
      "             ('ZIP', '00001'),\n",
      "             ('FullName', 'SUPERMAN ÜBERTAN'),\n",
      "             ('FooDuration', 401012.123),\n",
      "             ('BarDuration', 5553.123),\n",
      "             ('TotalDuration', 406565.24600000004),\n",
      "             ('Notes', 'This is some Unicode right here. ü ¡! 😀')])\n",
      "OrderedDict([('Timestamp', '2016-02-29T15:11:11-05:00'),\n",
      "             ('Address', '111 Ste. #123123123'),\n",
      "             ('ZIP', '01101'),\n",
      "             ('FullName', 'RÉSUMÉ RON'),\n",
      "             ('FooDuration', 113012.123),\n",
      "             ('BarDuration', 5553.123),\n",
      "             ('TotalDuration', 118565.24600000001),\n",
      "             ('Notes', '🏳️🏴🏳️🏴')])\n",
      "OrderedDict([('Timestamp', '2011-01-01T03:00:01-05:00'),\n",
      "             ('Address', 'This Is Not An Address, BusyTown, BT'),\n",
      "             ('ZIP', '94121'),\n",
      "             ('FullName', 'MARY 1'),\n",
      "             ('FooDuration', 5012.123),\n",
      "             ('BarDuration', 0.0),\n",
      "             ('TotalDuration', 5012.123),\n",
      "             ('Notes', 'I like Emoji! 🍏🍎😍')])\n",
      "OrderedDict([('Timestamp', '2017-01-01T02:59:59-05:00'),\n",
      "             ('Address', '123 Gangnam Style Lives Here, Gangnam Town'),\n",
      "             ('ZIP', '31403'),\n",
      "             ('FullName', 'ANTICIPATION OF UNICODE FAILURE'),\n",
      "             ('FooDuration', 5012.123),\n",
      "             ('BarDuration', 5553.123),\n",
      "             ('TotalDuration', 10565.246),\n",
      "             ('Notes', 'I like Math Symbols! ≱≰⨌⊚')])\n",
      "OrderedDict([('Timestamp', '2011-11-11T14:11:11-05:00'),\n",
      "             ('Address', 'überTown'),\n",
      "             ('ZIP', '10001'),\n",
      "             ('FullName', 'PROMPT NEGOTIATOR'),\n",
      "             ('FooDuration', 5012.123),\n",
      "             ('BarDuration', 5553.123),\n",
      "             ('TotalDuration', 10565.246),\n",
      "             ('Notes',\n",
      "              'I’m just gonna say, this is AMAZING. WHAT NEGOTIATIONS.')])\n"
     ]
    },
    {
     "ename": "ParserError",
     "evalue": "Could not match input to any of ['M/D/YY HH:mm:ss A:ZZZ', 'MM/D/YY HH:mm:ss A:ZZZ', 'M/DD/YY HH:mm:ss A:ZZZ', 'MM/DD/YY HH:mm:ss A:ZZZ'] on '5/12/10 4:48:12 PM:US/Pacific'",
     "output_type": "error",
     "traceback": [
      "\u001b[1;31m---------------------------------------------------------------------------\u001b[0m",
      "\u001b[1;31mParserError\u001b[0m                               Traceback (most recent call last)",
      "\u001b[1;32m<ipython-input-72-3bb317cfcd06>\u001b[0m in \u001b[0;36m<module>\u001b[1;34m()\u001b[0m\n\u001b[1;32m----> 1\u001b[1;33m \u001b[0mnormalize\u001b[0m\u001b[1;33m(\u001b[0m\u001b[1;34m'sample.csv'\u001b[0m\u001b[1;33m,\u001b[0m \u001b[1;34m'output.csv'\u001b[0m\u001b[1;33m)\u001b[0m\u001b[1;33m\u001b[0m\u001b[0m\n\u001b[0m",
      "\u001b[1;32m<ipython-input-71-cb022ab4754c>\u001b[0m in \u001b[0;36mnormalize\u001b[1;34m(in_filepath, out_filepath)\u001b[0m\n\u001b[0;32m      8\u001b[0m         \u001b[1;32mfor\u001b[0m \u001b[0mrow\u001b[0m \u001b[1;32min\u001b[0m \u001b[0mreader\u001b[0m\u001b[1;33m:\u001b[0m\u001b[1;33m\u001b[0m\u001b[0m\n\u001b[0;32m      9\u001b[0m             \u001b[1;31m# Timestamp : to ISO-8601 format in US/Eastern timezone\u001b[0m\u001b[1;33m\u001b[0m\u001b[1;33m\u001b[0m\u001b[0m\n\u001b[1;32m---> 10\u001b[1;33m             \u001b[0mrow\u001b[0m\u001b[1;33m[\u001b[0m\u001b[1;34m'Timestamp'\u001b[0m\u001b[1;33m]\u001b[0m \u001b[1;33m=\u001b[0m \u001b[0mto_iso8601\u001b[0m\u001b[1;33m(\u001b[0m\u001b[0mrow\u001b[0m\u001b[1;33m[\u001b[0m\u001b[1;34m'Timestamp'\u001b[0m\u001b[1;33m]\u001b[0m\u001b[1;33m,\u001b[0m \u001b[1;34m'US/Eastern'\u001b[0m\u001b[1;33m)\u001b[0m\u001b[1;33m\u001b[0m\u001b[0m\n\u001b[0m\u001b[0;32m     11\u001b[0m             \u001b[1;31m# Address : no changes\u001b[0m\u001b[1;33m\u001b[0m\u001b[1;33m\u001b[0m\u001b[0m\n\u001b[0;32m     12\u001b[0m             \u001b[1;31m# ZIP : limit to 5 digits, prefix with 0\u001b[0m\u001b[1;33m\u001b[0m\u001b[1;33m\u001b[0m\u001b[0m\n",
      "\u001b[1;32m<ipython-input-68-00f8cf583059>\u001b[0m in \u001b[0;36mto_iso8601\u001b[1;34m(datetime, timezone)\u001b[0m\n\u001b[0;32m      1\u001b[0m \u001b[1;32mdef\u001b[0m \u001b[0mto_iso8601\u001b[0m\u001b[1;33m(\u001b[0m\u001b[0mdatetime\u001b[0m\u001b[1;33m,\u001b[0m \u001b[0mtimezone\u001b[0m\u001b[1;33m)\u001b[0m\u001b[1;33m:\u001b[0m\u001b[1;33m\u001b[0m\u001b[0m\n\u001b[1;32m----> 2\u001b[1;33m     \u001b[0mtime\u001b[0m \u001b[1;33m=\u001b[0m \u001b[0marrow\u001b[0m\u001b[1;33m.\u001b[0m\u001b[0mget\u001b[0m\u001b[1;33m(\u001b[0m\u001b[0mdatetime\u001b[0m \u001b[1;33m+\u001b[0m \u001b[1;34m':US/Pacific'\u001b[0m\u001b[1;33m,\u001b[0m \u001b[1;33m[\u001b[0m\u001b[1;34m'M/D/YY HH:mm:ss A:ZZZ'\u001b[0m\u001b[1;33m,\u001b[0m \u001b[1;34m'MM/D/YY HH:mm:ss A:ZZZ'\u001b[0m\u001b[1;33m,\u001b[0m \u001b[1;34m'M/DD/YY HH:mm:ss A:ZZZ'\u001b[0m\u001b[1;33m,\u001b[0m \u001b[1;34m'MM/DD/YY HH:mm:ss A:ZZZ'\u001b[0m\u001b[1;33m]\u001b[0m\u001b[1;33m)\u001b[0m\u001b[1;33m\u001b[0m\u001b[0m\n\u001b[0m\u001b[0;32m      3\u001b[0m     \u001b[1;32mreturn\u001b[0m \u001b[0mtime\u001b[0m\u001b[1;33m.\u001b[0m\u001b[0mto\u001b[0m\u001b[1;33m(\u001b[0m\u001b[0mtimezone\u001b[0m\u001b[1;33m)\u001b[0m\u001b[1;33m.\u001b[0m\u001b[0mformat\u001b[0m\u001b[1;33m(\u001b[0m\u001b[1;34m'YYYY-MM-DDTHH:mm:ssZZ'\u001b[0m\u001b[1;33m)\u001b[0m\u001b[1;33m\u001b[0m\u001b[0m\n",
      "\u001b[1;32m~\\Anaconda3\\lib\\site-packages\\arrow\\api.py\u001b[0m in \u001b[0;36mget\u001b[1;34m(*args, **kwargs)\u001b[0m\n\u001b[0;32m     20\u001b[0m     '''\n\u001b[0;32m     21\u001b[0m \u001b[1;33m\u001b[0m\u001b[0m\n\u001b[1;32m---> 22\u001b[1;33m     \u001b[1;32mreturn\u001b[0m \u001b[0m_factory\u001b[0m\u001b[1;33m.\u001b[0m\u001b[0mget\u001b[0m\u001b[1;33m(\u001b[0m\u001b[1;33m*\u001b[0m\u001b[0margs\u001b[0m\u001b[1;33m,\u001b[0m \u001b[1;33m**\u001b[0m\u001b[0mkwargs\u001b[0m\u001b[1;33m)\u001b[0m\u001b[1;33m\u001b[0m\u001b[0m\n\u001b[0m\u001b[0;32m     23\u001b[0m \u001b[1;33m\u001b[0m\u001b[0m\n\u001b[0;32m     24\u001b[0m \u001b[1;32mdef\u001b[0m \u001b[0mutcnow\u001b[0m\u001b[1;33m(\u001b[0m\u001b[1;33m)\u001b[0m\u001b[1;33m:\u001b[0m\u001b[1;33m\u001b[0m\u001b[0m\n",
      "\u001b[1;32m~\\Anaconda3\\lib\\site-packages\\arrow\\factory.py\u001b[0m in \u001b[0;36mget\u001b[1;34m(self, *args, **kwargs)\u001b[0m\n\u001b[0;32m    206\u001b[0m             \u001b[1;31m# (str, format) -> parse.\u001b[0m\u001b[1;33m\u001b[0m\u001b[1;33m\u001b[0m\u001b[0m\n\u001b[0;32m    207\u001b[0m             \u001b[1;32melif\u001b[0m \u001b[0misstr\u001b[0m\u001b[1;33m(\u001b[0m\u001b[0marg_1\u001b[0m\u001b[1;33m)\u001b[0m \u001b[1;32mand\u001b[0m \u001b[1;33m(\u001b[0m\u001b[0misstr\u001b[0m\u001b[1;33m(\u001b[0m\u001b[0marg_2\u001b[0m\u001b[1;33m)\u001b[0m \u001b[1;32mor\u001b[0m \u001b[0misinstance\u001b[0m\u001b[1;33m(\u001b[0m\u001b[0marg_2\u001b[0m\u001b[1;33m,\u001b[0m \u001b[0mlist\u001b[0m\u001b[1;33m)\u001b[0m\u001b[1;33m)\u001b[0m\u001b[1;33m:\u001b[0m\u001b[1;33m\u001b[0m\u001b[0m\n\u001b[1;32m--> 208\u001b[1;33m                 \u001b[0mdt\u001b[0m \u001b[1;33m=\u001b[0m \u001b[0mparser\u001b[0m\u001b[1;33m.\u001b[0m\u001b[0mDateTimeParser\u001b[0m\u001b[1;33m(\u001b[0m\u001b[0mlocale\u001b[0m\u001b[1;33m)\u001b[0m\u001b[1;33m.\u001b[0m\u001b[0mparse\u001b[0m\u001b[1;33m(\u001b[0m\u001b[0margs\u001b[0m\u001b[1;33m[\u001b[0m\u001b[1;36m0\u001b[0m\u001b[1;33m]\u001b[0m\u001b[1;33m,\u001b[0m \u001b[0margs\u001b[0m\u001b[1;33m[\u001b[0m\u001b[1;36m1\u001b[0m\u001b[1;33m]\u001b[0m\u001b[1;33m)\u001b[0m\u001b[1;33m\u001b[0m\u001b[0m\n\u001b[0m\u001b[0;32m    209\u001b[0m                 \u001b[1;32mreturn\u001b[0m \u001b[0mself\u001b[0m\u001b[1;33m.\u001b[0m\u001b[0mtype\u001b[0m\u001b[1;33m.\u001b[0m\u001b[0mfromdatetime\u001b[0m\u001b[1;33m(\u001b[0m\u001b[0mdt\u001b[0m\u001b[1;33m,\u001b[0m \u001b[0mtzinfo\u001b[0m\u001b[1;33m=\u001b[0m\u001b[0mtz\u001b[0m\u001b[1;33m)\u001b[0m\u001b[1;33m\u001b[0m\u001b[0m\n\u001b[0;32m    210\u001b[0m \u001b[1;33m\u001b[0m\u001b[0m\n",
      "\u001b[1;32m~\\Anaconda3\\lib\\site-packages\\arrow\\parser.py\u001b[0m in \u001b[0;36mparse\u001b[1;34m(self, string, fmt)\u001b[0m\n\u001b[0;32m    166\u001b[0m \u001b[1;33m\u001b[0m\u001b[0m\n\u001b[0;32m    167\u001b[0m         \u001b[1;32mif\u001b[0m \u001b[0misinstance\u001b[0m\u001b[1;33m(\u001b[0m\u001b[0mfmt\u001b[0m\u001b[1;33m,\u001b[0m \u001b[0mlist\u001b[0m\u001b[1;33m)\u001b[0m\u001b[1;33m:\u001b[0m\u001b[1;33m\u001b[0m\u001b[0m\n\u001b[1;32m--> 168\u001b[1;33m             \u001b[1;32mreturn\u001b[0m \u001b[0mself\u001b[0m\u001b[1;33m.\u001b[0m\u001b[0m_parse_multiformat\u001b[0m\u001b[1;33m(\u001b[0m\u001b[0mstring\u001b[0m\u001b[1;33m,\u001b[0m \u001b[0mfmt\u001b[0m\u001b[1;33m)\u001b[0m\u001b[1;33m\u001b[0m\u001b[0m\n\u001b[0m\u001b[0;32m    169\u001b[0m \u001b[1;33m\u001b[0m\u001b[0m\n\u001b[0;32m    170\u001b[0m         \u001b[0mfmt_tokens\u001b[0m\u001b[1;33m,\u001b[0m \u001b[0mfmt_pattern_re\u001b[0m \u001b[1;33m=\u001b[0m \u001b[0mself\u001b[0m\u001b[1;33m.\u001b[0m\u001b[0m_generate_pattern_re\u001b[0m\u001b[1;33m(\u001b[0m\u001b[0mfmt\u001b[0m\u001b[1;33m)\u001b[0m\u001b[1;33m\u001b[0m\u001b[0m\n",
      "\u001b[1;32m~\\Anaconda3\\lib\\site-packages\\arrow\\parser.py\u001b[0m in \u001b[0;36m_parse_multiformat\u001b[1;34m(self, string, formats)\u001b[0m\n\u001b[0;32m    281\u001b[0m \u001b[1;33m\u001b[0m\u001b[0m\n\u001b[0;32m    282\u001b[0m         \u001b[1;32mif\u001b[0m \u001b[0m_datetime\u001b[0m \u001b[1;32mis\u001b[0m \u001b[1;32mNone\u001b[0m\u001b[1;33m:\u001b[0m\u001b[1;33m\u001b[0m\u001b[0m\n\u001b[1;32m--> 283\u001b[1;33m             \u001b[1;32mraise\u001b[0m \u001b[0mParserError\u001b[0m\u001b[1;33m(\u001b[0m\u001b[1;34m'Could not match input to any of {0} on \\'{1}\\''\u001b[0m\u001b[1;33m.\u001b[0m\u001b[0mformat\u001b[0m\u001b[1;33m(\u001b[0m\u001b[0mformats\u001b[0m\u001b[1;33m,\u001b[0m \u001b[0mstring\u001b[0m\u001b[1;33m)\u001b[0m\u001b[1;33m)\u001b[0m\u001b[1;33m\u001b[0m\u001b[0m\n\u001b[0m\u001b[0;32m    284\u001b[0m \u001b[1;33m\u001b[0m\u001b[0m\n\u001b[0;32m    285\u001b[0m         \u001b[1;32mreturn\u001b[0m \u001b[0m_datetime\u001b[0m\u001b[1;33m\u001b[0m\u001b[0m\n",
      "\u001b[1;31mParserError\u001b[0m: Could not match input to any of ['M/D/YY HH:mm:ss A:ZZZ', 'MM/D/YY HH:mm:ss A:ZZZ', 'M/DD/YY HH:mm:ss A:ZZZ', 'MM/DD/YY HH:mm:ss A:ZZZ'] on '5/12/10 4:48:12 PM:US/Pacific'"
     ]
    }
   ],
   "source": [
    "normalize('sample.csv', 'output.csv')"
   ]
  },
  {
   "cell_type": "code",
   "execution_count": null,
   "metadata": {},
   "outputs": [],
   "source": []
  }
 ],
 "metadata": {
  "kernelspec": {
   "display_name": "Python 3",
   "language": "python",
   "name": "python3"
  },
  "language_info": {
   "codemirror_mode": {
    "name": "ipython",
    "version": 3
   },
   "file_extension": ".py",
   "mimetype": "text/x-python",
   "name": "python",
   "nbconvert_exporter": "python",
   "pygments_lexer": "ipython3",
   "version": "3.7.0"
  }
 },
 "nbformat": 4,
 "nbformat_minor": 2
}
