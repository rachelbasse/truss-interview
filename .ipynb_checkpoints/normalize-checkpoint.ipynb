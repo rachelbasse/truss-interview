{
 "cells": [
  {
   "cell_type": "code",
   "execution_count": null,
   "metadata": {},
   "outputs": [],
   "source": [
    "# Imports\n",
    "import arrow\n",
    "import codecs\n",
    "import csv\n",
    "import io\n",
    "from re import match\n",
    "import sys"
   ]
  },
  {
   "cell_type": "code",
   "execution_count": null,
   "metadata": {},
   "outputs": [],
   "source": [
    "def to_seconds(time):\n",
    "    units = [float(v) for v in time.split(':')]\n",
    "    return sum((coeff * unit for coeff, unit in zip([3600, 60, 1], units)))"
   ]
  },
  {
   "cell_type": "code",
   "execution_count": null,
   "metadata": {},
   "outputs": [],
   "source": [
    "def to_iso8601(datetime, timezone):\n",
    "    match = re.match(r'(\\d\\d?)/(\\d\\d?)/(\\d\\d?) (\\d\\d?)(.*)', datetime)\n",
    "    time = arrow.get('20{2:0>2}-{0:0>2}-{1:0>2}T{3:0>2}{4} {5}'.format(*match.groups(), 'US/Pacific'), 'YYYY-MM-DDTHH:ss:mm A ZZZ')\n",
    "    return time.to(timezone).format('YYYY-MM-DDTHH:mm:ssZZ')"
   ]
  },
  {
   "cell_type": "code",
   "execution_count": null,
   "metadata": {},
   "outputs": [],
   "source": [
    "to_zip = lambda x: '{0:0>5.5}'.format(x)"
   ]
  },
  {
   "cell_type": "code",
   "execution_count": null,
   "metadata": {},
   "outputs": [],
   "source": [
    "def normalize():\n",
    "    raw = sys.stdin.reconfigure(encoding='utf-8', errors=\"replace\")\n",
    "    out = sys.stdout.reconfigure(encoding='utf-8', errors=\"ignore\")\n",
    "    #out = codecs.getwriter('utf-8')(sys.stdout.detach(), 'ignore')\n",
    "    #out = codecs.getwriter('utf-8')(sys.stdout.buffer, 'ignore')\n",
    "    #raw = io.TextIOWrapper(sys.stdin.buffer, encoding='utf-8', errors='replace')\n",
    "    #out = io.TextIOWrapper(sys.stdout.buffer, encoding='utf-8', errors=\"ignore\")\n",
    "    csv.register_dialect('truss', delimiter=',', escapechar=None, quoting=csv.QUOTE_MINIMAL)\n",
    "    reader = csv.DictReader(raw)\n",
    "    fieldnames = reader.fieldnames\n",
    "    writer = csv.DictWriter(out, fieldnames=fieldnames)\n",
    "    writer.writeheader()\n",
    "    for row in reader:\n",
    "        # Timestamp : to ISO-8601 format in US/Eastern timezone\n",
    "        try:\n",
    "            row['Timestamp'] = to_iso8601(row['Timestamp'], 'US/Eastern')\n",
    "        except AttributeError:\n",
    "            print('WARNING: row {0}\\ndropped while normalizing timestamp due to error.'.format(list(row.values())))\n",
    "            continue\n",
    "        # Address : no changes\n",
    "        # ZIP : limit to 5 digits, prefix with 0\n",
    "        row['ZIP'] = to_zip(row['ZIP'])\n",
    "        # FullName : to uppercase\n",
    "        row['FullName'] = row['FullName'].upper()\n",
    "        # FooDuration, BarDuration : HH:MM:SS.MS format to seconds (float)\n",
    "        row['FooDuration'] = to_seconds(row['FooDuration'])\n",
    "        row['BarDuration'] = to_seconds(row['BarDuration'])\n",
    "        # TotalDuration : replace with sum of FooDuration and BarDuration\n",
    "        row['TotalDuration'] = row['FooDuration'] + row['BarDuration']\n",
    "        # Notes : no changes\n",
    "        writer.writerow(row)"
   ]
  },
  {
   "cell_type": "code",
   "execution_count": null,
   "metadata": {},
   "outputs": [],
   "source": [
    "if __name__ == \"__main__\":\n",
    "    normalize()"
   ]
  }
 ],
 "metadata": {
  "kernelspec": {
   "display_name": "Python 3",
   "language": "python",
   "name": "python3"
  },
  "language_info": {
   "codemirror_mode": {
    "name": "ipython",
    "version": 3
   },
   "file_extension": ".py",
   "mimetype": "text/x-python",
   "name": "python",
   "nbconvert_exporter": "python",
   "pygments_lexer": "ipython3",
   "version": "3.7.0"
  }
 },
 "nbformat": 4,
 "nbformat_minor": 2
}
