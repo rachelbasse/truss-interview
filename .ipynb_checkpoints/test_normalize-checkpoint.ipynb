{
 "cells": [
  {
   "cell_type": "code",
   "execution_count": null,
   "metadata": {},
   "outputs": [],
   "source": [
    "# Imports\n",
    "import normalize\n",
    "import unittest"
   ]
  },
  {
   "cell_type": "code",
   "execution_count": null,
   "metadata": {},
   "outputs": [],
   "source": [
    "# Unit tests\n",
    "class TestNormalizer(unittest.TestCase):\n",
    "\n",
    "    def to_iso8601(self):\n",
    "        self.assertEqual(to_iso8601('1/1/00 1:01:01 AM'), '2000-01-01T04:01:01-4:00')\n",
    "        self.assertEqual(to_iso8601('10/11/12 01:23:45 PM'), '2012-10-11T16:23:45-4:00')\n",
    "        self.assertEqual(to_iso8601('10/11/12 11:23:45 PM'), '2012-10-12T02:23:45-4:00')\n",
    "\n",
    "    def to_seconds(self):\n",
    "        self.assertEqual(to_seconds('0:0:0'), 0)\n",
    "        self.assertEqual(to_seconds('0:0:1.0'), 1)\n",
    "        self.assertEqual(to_seconds('0:1:0'), 60)\n",
    "        self.assertEqual(to_seconds('1:0:0'), 3600)\n",
    "        self.assertEqual(to_seconds('0:0:32.123'), 32.123)\n",
    "        self.assertEqual(to_seconds('0:1:32.123'), 92.123)\n",
    "        self.assertEqual(to_seconds('1:0:32.123'), 3632.123)\n",
    "        \n",
    "    def to_zip(self):\n",
    "        self.assertEqual(to_zip(''), '00000')\n",
    "        self.assertEqual(to_zip('123'), '00123')\n",
    "        self.assertEqual(to_zip('12345'), '12345')\n",
    "        self.assertEqual(to_zip('1234567'), '12345')\n",
    "        "
   ]
  },
  {
   "cell_type": "code",
   "execution_count": null,
   "metadata": {},
   "outputs": [],
   "source": [
    "# Run tests\n",
    "if __name__ == '__main__':\n",
    "    unittest.main(argv=['first-arg-is-ignored'], exit=False)"
   ]
  }
 ],
 "metadata": {
  "kernelspec": {
   "display_name": "Python 3",
   "language": "python",
   "name": "python3"
  },
  "language_info": {
   "codemirror_mode": {
    "name": "ipython",
    "version": 3
   },
   "file_extension": ".py",
   "mimetype": "text/x-python",
   "name": "python",
   "nbconvert_exporter": "python",
   "pygments_lexer": "ipython3",
   "version": "3.7.0"
  }
 },
 "nbformat": 4,
 "nbformat_minor": 2
}
